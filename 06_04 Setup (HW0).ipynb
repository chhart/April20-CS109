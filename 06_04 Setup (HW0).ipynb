{
 "cells": [
  {
   "cell_type": "markdown",
   "metadata": {},
   "source": [
    "# Setup (CS109 HW0 - 2015)\n",
    "\n",
    "Based on: https://github.com/cs109/2015lab1/blob/master/hw0.ipynb\n",
    "\n",
    "Download Anaconda from here: https://www.anaconda.com/\n",
    "This package contains all of the libraries I'll be using"
   ]
  },
  {
   "cell_type": "code",
   "execution_count": 7,
   "metadata": {},
   "outputs": [
    {
     "name": "stdout",
     "output_type": "stream",
     "text": [
      "3.7.6 (default, Jan  8 2020, 20:23:39) [MSC v.1916 64 bit (AMD64)]\n"
     ]
    }
   ],
   "source": [
    "## check that we are using the correct version of Python\n",
    "\n",
    "import sys\n",
    "print (sys.version)"
   ]
  },
  {
   "cell_type": "markdown",
   "metadata": {},
   "source": [
    "Downloaded git: https://git-scm.com/\n",
    "\n",
    "To avoid constant username/password entry generate an SSH key: https://jdblischak.github.io/2014-09-18-chicago/novice/git/05-sshkeys.html\n",
    "\n",
    "Adding your information as git variables here: https://git-scm.com/book/en/v2/Getting-Started-First-Time-Git-Setup"
   ]
  },
  {
   "cell_type": "markdown",
   "metadata": {},
   "source": [
    "#### Now learn about git: https://github.com/cs109/2015lab1/blob/master/Lab1-git.ipynb"
   ]
  },
  {
   "cell_type": "markdown",
   "metadata": {},
   "source": [
    "#### And install a few more libraries:\n",
    "    1.BeautifulSoup\n",
    "    2.Seaborn\n",
    "    3.PyQuery"
   ]
  },
  {
   "cell_type": "code",
   "execution_count": 15,
   "metadata": {},
   "outputs": [
    {
     "name": "stdout",
     "output_type": "stream",
     "text": [
      "Requirement already satisfied: Seaborn in c:\\users\\chris\\anaconda3\\lib\\site-packages (0.10.0)\n",
      "Requirement already satisfied: numpy>=1.13.3 in c:\\users\\chris\\anaconda3\\lib\\site-packages (from Seaborn) (1.18.1)\n",
      "Requirement already satisfied: pandas>=0.22.0 in c:\\users\\chris\\anaconda3\\lib\\site-packages (from Seaborn) (1.0.1)\n",
      "Requirement already satisfied: matplotlib>=2.1.2 in c:\\users\\chris\\anaconda3\\lib\\site-packages (from Seaborn) (3.1.3)\n",
      "Requirement already satisfied: scipy>=1.0.1 in c:\\users\\chris\\anaconda3\\lib\\site-packages (from Seaborn) (1.4.1)\n",
      "Requirement already satisfied: python-dateutil>=2.6.1 in c:\\users\\chris\\anaconda3\\lib\\site-packages (from pandas>=0.22.0->Seaborn) (2.8.1)\n",
      "Requirement already satisfied: pytz>=2017.2 in c:\\users\\chris\\anaconda3\\lib\\site-packages (from pandas>=0.22.0->Seaborn) (2019.3)\n",
      "Requirement already satisfied: pyparsing!=2.0.4,!=2.1.2,!=2.1.6,>=2.0.1 in c:\\users\\chris\\anaconda3\\lib\\site-packages (from matplotlib>=2.1.2->Seaborn) (2.4.6)\n",
      "Requirement already satisfied: kiwisolver>=1.0.1 in c:\\users\\chris\\anaconda3\\lib\\site-packages (from matplotlib>=2.1.2->Seaborn) (1.1.0)\n",
      "Requirement already satisfied: cycler>=0.10 in c:\\users\\chris\\anaconda3\\lib\\site-packages (from matplotlib>=2.1.2->Seaborn) (0.10.0)\n",
      "Requirement already satisfied: six>=1.5 in c:\\users\\chris\\anaconda3\\lib\\site-packages (from python-dateutil>=2.6.1->pandas>=0.22.0->Seaborn) (1.14.0)\n",
      "Requirement already satisfied: setuptools in c:\\users\\chris\\anaconda3\\lib\\site-packages (from kiwisolver>=1.0.1->matplotlib>=2.1.2->Seaborn) (45.2.0.post20200210)\n"
     ]
    }
   ],
   "source": [
    "## recommended way to install is with !pip install [library]\n",
    "\n",
    "!pip install Seaborn"
   ]
  },
  {
   "cell_type": "code",
   "execution_count": 3,
   "metadata": {},
   "outputs": [
    {
     "name": "stdout",
     "output_type": "stream",
     "text": [
      "Requirement already satisfied: BeautifulSoup4 in c:\\users\\chris\\anaconda3\\lib\\site-packages (4.8.2)\n",
      "Requirement already satisfied: soupsieve>=1.2 in c:\\users\\chris\\anaconda3\\lib\\site-packages (from BeautifulSoup4) (1.9.5)\n"
     ]
    }
   ],
   "source": [
    "!pip install BeautifulSoup4"
   ]
  },
  {
   "cell_type": "code",
   "execution_count": 16,
   "metadata": {},
   "outputs": [
    {
     "name": "stdout",
     "output_type": "stream",
     "text": [
      "Collecting PyQuery\n",
      "  Downloading pyquery-1.4.1-py2.py3-none-any.whl (22 kB)\n",
      "Collecting cssselect>0.7.9\n",
      "  Downloading cssselect-1.1.0-py2.py3-none-any.whl (16 kB)\n",
      "Requirement already satisfied: lxml>=2.1 in c:\\users\\chris\\anaconda3\\lib\\site-packages (from PyQuery) (4.5.0)\n",
      "Installing collected packages: cssselect, PyQuery\n",
      "Successfully installed PyQuery-1.4.1 cssselect-1.1.0\n"
     ]
    }
   ],
   "source": [
    "!pip install PyQuery"
   ]
  },
  {
   "cell_type": "code",
   "execution_count": 17,
   "metadata": {},
   "outputs": [
    {
     "name": "stdout",
     "output_type": "stream",
     "text": [
      "IPython version: 7.12.0 (need at least 3.0.0)\n",
      "Numpy version: 1.18.1 (need at least 1.9.1)\n",
      "SciPy version: 1.4.1 (need at least 0.15.1)\n",
      "Pandas version: 1.0.1 (need at least 0.16.2)\n",
      "Mapltolib version: 3.1.3 (need at least 1.4.1)\n",
      "Scikit-Learn version: 0.22.1 (need at least 0.16.1)\n",
      "requests version: 2.22.0 (need at least 2.0.0)\n",
      "BeautifulSoup version: 4.8.2 (need at least 4.4)\n",
      "Loaded PyQuery\n"
     ]
    }
   ],
   "source": [
    "import IPython\n",
    "print(\"IPython version: %s (need at least 3.0.0)\" % IPython.__version__)\n",
    "\n",
    "# numpy = working with arrays\n",
    "import numpy as np\n",
    "print(\"Numpy version: %s (need at least 1.9.1)\" % np.__version__)\n",
    "\n",
    "# SciPy = algorithms? Don't understand this one yet...\n",
    "import scipy as sp\n",
    "print(\"SciPy version: %s (need at least 0.15.1)\" % sp.__version__)\n",
    "\n",
    "# pandas = makes tables and stuff that I do understand\n",
    "import pandas as pd\n",
    "print (\"Pandas version: %s (need at least 0.16.2)\" % pd.__version__)\n",
    "\n",
    "# matplotlib = makes graphs and stuff\n",
    "import matplotlib\n",
    "print (\"Mapltolib version: %s (need at least 1.4.1)\" % matplotlib.__version__)\n",
    "\n",
    "# scikitlearn = regression and basic ML stuff\n",
    "import sklearn\n",
    "print (\"Scikit-Learn version: %s (need at least 0.16.1)\" % sklearn.__version__)\n",
    "\n",
    "# Requests = gets stuff from the internet?\n",
    "import requests\n",
    "print (\"requests version: %s (need at least 2.0.0)\" % requests.__version__)\n",
    "\n",
    "# BeautifulSoup = helps me do something with this stuff from the internet\n",
    "import bs4\n",
    "print (\"BeautifulSoup version: %s (need at least 4.4)\" % bs4.__version__)\n",
    "\n",
    "import pyquery\n",
    "print (\"Loaded PyQuery\")"
   ]
  },
  {
   "cell_type": "markdown",
   "metadata": {},
   "source": [
    "## Standard Incantation"
   ]
  },
  {
   "cell_type": "code",
   "execution_count": 1,
   "metadata": {},
   "outputs": [],
   "source": [
    "## copied from the Harvard materials (sorry...)\n",
    "\n",
    "# The %... is an iPython thing, and is not part of the Python language.\n",
    "# In this case we're just telling the plotting library to draw things on\n",
    "# the notebook, instead of on a separate window.\n",
    "%matplotlib inline \n",
    "#this line above prepares IPython notebook for working with matplotlib\n",
    "\n",
    "# See all the \"as ...\" contructs? They're just aliasing the package names.\n",
    "# That way we can call methods like plt.plot() instead of matplotlib.pyplot.plot().\n",
    "\n",
    "import numpy as np # imports a fast numerical programming library\n",
    "import scipy as sp #imports stats functions, amongst other things\n",
    "import matplotlib as mpl # this actually imports matplotlib\n",
    "import matplotlib.cm as cm #allows us easy access to colormaps\n",
    "import matplotlib.pyplot as plt #sets up plotting under plt\n",
    "import pandas as pd #lets us handle data as dataframes\n",
    "#sets up pandas table display\n",
    "pd.set_option('display.width', 500)\n",
    "pd.set_option('display.max_columns', 100)\n",
    "pd.set_option('display.notebook_repr_html', True)\n",
    "import seaborn as sns #sets up styles and gives us more plotting options"
   ]
  },
  {
   "cell_type": "markdown",
   "metadata": {},
   "source": [
    "## Using Matplotlib"
   ]
  },
  {
   "cell_type": "code",
   "execution_count": 3,
   "metadata": {
    "scrolled": true
   },
   "outputs": [
    {
     "data": {
      "text/plain": [
       "Text(0, 0.5, 'Y axis')"
      ]
     },
     "execution_count": 3,
     "metadata": {},
     "output_type": "execute_result"
    },
    {
     "data": {
      "image/png": "[encoded data removed]",
      "text/plain": [
       "<Figure size 432x288 with 1 Axes>"
      ]
     },
     "metadata": {
      "needs_background": "light"
     },
     "output_type": "display_data"
    }
   ],
   "source": [
    "x = np.linspace(0,10,30)\n",
    "y=np.sin(x)\n",
    "z=y + np.random.normal(size=30) *.2\n",
    "plt.plot(x,y,'o-', label='sine wave')\n",
    "plt.plot(x,z,'-',label='noisy sine wave')\n",
    "plt.legend(loc = 'lower right')\n",
    "plt.xlabel('X axis')\n",
    "plt.ylabel('Y axis')"
   ]
  },
  {
   "cell_type": "markdown",
   "metadata": {},
   "source": [
    "## Using Numpy"
   ]
  },
  {
   "cell_type": "code",
   "execution_count": 10,
   "metadata": {},
   "outputs": [
    {
     "name": "stdout",
     "output_type": "stream",
     "text": [
      "make a 3 row x 4 column array of random numbers\n",
      "[[0.13827558 0.1009104  0.72761947 0.3662642 ]\n",
      " [0.55613236 0.74980815 0.07224136 0.56754967]\n",
      " [0.71049377 0.95044093 0.85989518 0.50207963]]\n",
      "\n",
      "add 1 to every element\n",
      "[[1.13827558 1.1009104  1.72761947 1.3662642 ]\n",
      " [1.55613236 1.74980815 1.07224136 1.56754967]\n",
      " [1.71049377 1.95044093 1.85989518 1.50207963]]\n",
      "\n",
      "get the element at row 1, column 2\n",
      "1.072241359811281\n",
      "\n",
      "get the first row\n",
      "[1.13827558 1.1009104  1.72761947 1.3662642 ]\n",
      "\n",
      "get every 2nd column of the first row\n",
      "[1.13827558 1.72761947]\n",
      "\n"
     ]
    }
   ],
   "source": [
    "print(\"make a 3 row x 4 column array of random numbers\")\n",
    "x = np.random.random((3,4))\n",
    "print(x)\n",
    "print() # this print adds another line\n",
    "\n",
    "print(\"add 1 to every element\")\n",
    "x = x + 1\n",
    "print(x)\n",
    "print()\n",
    "\n",
    "print(\"get the element at row 1, column 2\")\n",
    "print(x[1,2]) # indexed obviously\n",
    "print()\n",
    " \n",
    "print(\"get the first row\")\n",
    "print(x[0,:]) # slicing array\n",
    "print()\n",
    "\n",
    "print(\"get every 2nd column of the first row\")\n",
    "print(x[0,::2])\n",
    "print()"
   ]
  },
  {
   "cell_type": "code",
   "execution_count": 12,
   "metadata": {},
   "outputs": [
    {
     "name": "stdout",
     "output_type": "stream",
     "text": [
      "Max is  1.9504409312739985\n",
      "Min is  1.072241359811281\n",
      "Mean is  1.5251425593303292\n"
     ]
    }
   ],
   "source": [
    "# getting the min, max and mean:\n",
    "\n",
    "print('Max is ', x.max())\n",
    "print('Min is ', x.min())\n",
    "print('Mean is ', x.mean())"
   ]
  },
  {
   "cell_type": "code",
   "execution_count": 15,
   "metadata": {},
   "outputs": [
    {
     "name": "stdout",
     "output_type": "stream",
     "text": [
      "Max is  1.727619465512456\n",
      "Min is  1.1009104027972385\n",
      "Mean is  1.333267412667291\n"
     ]
    }
   ],
   "source": [
    "# getting the min, max and mean - but for specific parts of the array:\n",
    "\n",
    "print('Max is ', x[0,:].max())\n",
    "print('Min is ', x[0,:].min())\n",
    "print('Mean is ', x[0,:].mean())"
   ]
  },
  {
   "cell_type": "code",
   "execution_count": 16,
   "metadata": {},
   "outputs": [
    {
     "name": "stdout",
     "output_type": "stream",
     "text": [
      "[1.72761947 1.74980815 1.95044093]\n"
     ]
    }
   ],
   "source": [
    "# getting the maximum of each row \n",
    "\n",
    "print(x.max(axis=1))"
   ]
  },
  {
   "cell_type": "code",
   "execution_count": 18,
   "metadata": {},
   "outputs": [
    {
     "name": "stdout",
     "output_type": "stream",
     "text": [
      "[1.71049377 1.95044093 1.85989518 1.56754967]\n"
     ]
    }
   ],
   "source": [
    "# getting the maximum of each column - setting axis = 0\n",
    "\n",
    "print(x.max(axis=0))"
   ]
  },
  {
   "cell_type": "markdown",
   "metadata": {},
   "source": [
    "## Simulating some coin tosses"
   ]
  },
  {
   "cell_type": "code",
   "execution_count": 35,
   "metadata": {},
   "outputs": [
    {
     "name": "stdout",
     "output_type": "stream",
     "text": [
      "we rolled 253 heads\n"
     ]
    }
   ],
   "source": [
    "np.random.seed(0)\n",
    "x = np.random.binomial(500,0.5)\n",
    "print('we rolled %s heads' % x)"
   ]
  },
  {
   "cell_type": "code",
   "execution_count": null,
   "metadata": {},
   "outputs": [],
   "source": []
  }
 ],
 "metadata": {
  "kernelspec": {
   "display_name": "Python 3",
   "language": "python",
   "name": "python3"
  },
  "language_info": {
   "codemirror_mode": {
    "name": "ipython",
    "version": 3
   },
   "file_extension": ".py",
   "mimetype": "text/x-python",
   "name": "python",
   "nbconvert_exporter": "python",
   "pygments_lexer": "ipython3",
   "version": "3.7.6"
  }
 },
 "nbformat": 4,
 "nbformat_minor": 4
}
