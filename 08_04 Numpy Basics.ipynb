{
 "cells": [
  {
   "cell_type": "code",
   "execution_count": 1,
   "metadata": {},
   "outputs": [],
   "source": [
    "## copied from the Harvard materials (sorry...)\n",
    "\n",
    "# The %... is an iPython thing, and is not part of the Python language.\n",
    "# In this case we're just telling the plotting library to draw things on\n",
    "# the notebook, instead of on a separate window.\n",
    "%matplotlib inline \n",
    "#this line above prepares IPython notebook for working with matplotlib\n",
    "\n",
    "# See all the \"as ...\" contructs? They're just aliasing the package names.\n",
    "# That way we can call methods like plt.plot() instead of matplotlib.pyplot.plot().\n",
    "\n",
    "import numpy as np # imports a fast numerical programming library\n",
    "import scipy as sp #imports stats functions, amongst other things\n",
    "import matplotlib as mpl # this actually imports matplotlib\n",
    "import matplotlib.cm as cm #allows us easy access to colormaps\n",
    "import matplotlib.pyplot as plt #sets up plotting under plt\n",
    "import pandas as pd #lets us handle data as dataframes\n",
    "#sets up pandas table display\n",
    "pd.set_option('display.width', 500)\n",
    "pd.set_option('display.max_columns', 100)\n",
    "pd.set_option('display.notebook_repr_html', True)\n",
    "import seaborn as sns #sets up styles and gives us more plotting options"
   ]
  },
  {
   "cell_type": "markdown",
   "metadata": {},
   "source": [
    "## Starting with Numpy\n",
    "\n",
    "Not something I've understood before so here goes!\n",
    "\n",
    "I'm now going to jump here: https://rohitmidha23.github.io/Numpy-Explained/?utm_campaign=News&utm_medium=Community&utm_source=DataCamp.com\n",
    "\n",
    "Newer tools like pandas are built around Numpy arrays"
   ]
  },
  {
   "cell_type": "code",
   "execution_count": 2,
   "metadata": {},
   "outputs": [],
   "source": [
    "np.random.seed(0) # seed for reproductability (i.e. this helps us to get back to this exact sequence of random numbers later)\n",
    "x1 = np.random.randint(10, size=6) # one-dimensional array\n",
    "x2 = np.random.randint(10, size=(3,3)) # two-dimensional array"
   ]
  },
  {
   "cell_type": "code",
   "execution_count": 3,
   "metadata": {},
   "outputs": [
    {
     "name": "stdout",
     "output_type": "stream",
     "text": [
      "[5 0 3 3 7 9]\n"
     ]
    }
   ],
   "source": [
    "print(x1)"
   ]
  },
  {
   "cell_type": "code",
   "execution_count": 4,
   "metadata": {},
   "outputs": [
    {
     "name": "stdout",
     "output_type": "stream",
     "text": [
      "[[3 5 2]\n",
      " [4 7 6]\n",
      " [8 8 1]]\n"
     ]
    }
   ],
   "source": [
    "print(x2)"
   ]
  },
  {
   "cell_type": "markdown",
   "metadata": {},
   "source": [
    "#### Using np.array.()"
   ]
  },
  {
   "cell_type": "code",
   "execution_count": 5,
   "metadata": {},
   "outputs": [
    {
     "name": "stdout",
     "output_type": "stream",
     "text": [
      "[1 2 3 4]\n",
      "<class 'numpy.ndarray'>\n"
     ]
    }
   ],
   "source": [
    "x1 = np.array([1,2,3,4])\n",
    "print(x1)\n",
    "print(type(x1))"
   ]
  },
  {
   "cell_type": "code",
   "execution_count": 6,
   "metadata": {},
   "outputs": [
    {
     "name": "stdout",
     "output_type": "stream",
     "text": [
      "[[1 2 3]\n",
      " [4 5 6]]\n",
      "<class 'numpy.ndarray'>\n"
     ]
    }
   ],
   "source": [
    "x2 = np.array([[1,2,3],[4,5,6]])\n",
    "print(x2)\n",
    "print(type(x2))"
   ]
  },
  {
   "cell_type": "markdown",
   "metadata": {},
   "source": [
    "#### Using np.ndarray()\n",
    "\n",
    "Think I roughly understand what this is doing (enabling n-dimensional arrays). However, not fully clear on the buffer variable's purpose.\n",
    "\n",
    "Found this: https://jakevdp.github.io/blog/2014/05/05/introduction-to-the-python-buffer-protocol/ but haven't dug into in much detail."
   ]
  },
  {
   "cell_type": "code",
   "execution_count": 7,
   "metadata": {},
   "outputs": [
    {
     "name": "stdout",
     "output_type": "stream",
     "text": [
      "[1 2 3]\n",
      "[1 2 3 5]\n",
      "<class 'numpy.ndarray'>\n"
     ]
    }
   ],
   "source": [
    "x = np.ndarray(shape=3,dtype=int, buffer = np.array([1,2,3]))\n",
    "print(x)\n",
    "x = np.append(x,5)\n",
    "print(x)\n",
    "print(type(x))"
   ]
  },
  {
   "cell_type": "code",
   "execution_count": 8,
   "metadata": {},
   "outputs": [
    {
     "name": "stdout",
     "output_type": "stream",
     "text": [
      "[[1.4 2.5]\n",
      " [1.3 2.4]]\n"
     ]
    }
   ],
   "source": [
    "x = np.ndarray(shape=(2,2), dtype=float,buffer = np.array([[1.4,2.5],[1.3,2.4]]))\n",
    "print(x)"
   ]
  },
  {
   "cell_type": "markdown",
   "metadata": {},
   "source": [
    "#### Attributes of ndarray\n",
    "\n",
    "Each array has attributes ndim (the numbher of dimentions), shape (the size of each dimension) and size (the total size of the array):"
   ]
  },
  {
   "cell_type": "code",
   "execution_count": 9,
   "metadata": {},
   "outputs": [
    {
     "name": "stdout",
     "output_type": "stream",
     "text": [
      "x2.ndim =  2\n",
      "x2.shape =  (2, 3)\n",
      "x2.size =  6\n"
     ]
    }
   ],
   "source": [
    "x2 = np.array([[1,2,3],[4,5,6]])\n",
    "print('x2.ndim = ', x2.ndim)\n",
    "print('x2.shape = ', x2.shape)\n",
    "print('x2.size = ', x2.size)"
   ]
  },
  {
   "cell_type": "markdown",
   "metadata": {},
   "source": [
    "Data type is also useful: [array].dtype"
   ]
  },
  {
   "cell_type": "code",
   "execution_count": 10,
   "metadata": {},
   "outputs": [
    {
     "name": "stdout",
     "output_type": "stream",
     "text": [
      "x2.dtype =  int32\n"
     ]
    }
   ],
   "source": [
    "print('x2.dtype = ',x2.dtype)"
   ]
  },
  {
   "cell_type": "markdown",
   "metadata": {},
   "source": [
    "#### Array Indexing: Accessing Single Elements\n",
    "\n",
    "Square brackets enable us to access the desired index (similarly to Python lists). Index starts from zero (OBVIOUSLY)."
   ]
  },
  {
   "cell_type": "code",
   "execution_count": 11,
   "metadata": {},
   "outputs": [
    {
     "name": "stdout",
     "output_type": "stream",
     "text": [
      "x1 =  [1 2 3 4]\n",
      "x1[0] =  1\n",
      "x1[-1] =  4\n"
     ]
    }
   ],
   "source": [
    "x1 = np.array([1,2,3,4])\n",
    "print(\"x1 = \",x1)\n",
    "print(\"x1[0] = \",x1[0]) # just like arrays in c/c++\n",
    "print(\"x1[-1] = \",x1[-1]) # negative indexing just like lists"
   ]
  },
  {
   "cell_type": "markdown",
   "metadata": {},
   "source": [
    "In a multi-dimensional array, items can be accessed using a comma-separated tuple (like a list that can't be changed and with sq brackets rather than parentheses) of indices:"
   ]
  },
  {
   "cell_type": "code",
   "execution_count": 12,
   "metadata": {},
   "outputs": [
    {
     "name": "stdout",
     "output_type": "stream",
     "text": [
      "x2 = \n",
      "[[1 2 3]\n",
      " [4 5 6]\n",
      " [7 8 9]]\n",
      "x2[0] =  [1 2 3]\n",
      "x2[0][0]=  1\n",
      "x2[0,0] =  1\n",
      "x2[2][1]=  8\n",
      "x2[2,1]=  8\n"
     ]
    }
   ],
   "source": [
    "x2 = np.array([[1,2,3],[4,5,6],[7,8,9]])\n",
    "print(\"x2 = \"); print(x2)\n",
    "print(\"x2[0] = \",x2[0]) # will print the entire 1st row\n",
    "\n",
    "# to print 1st element of 1st row\n",
    "print(\"x2[0][0]= \", x2[0][0])\n",
    "print(\"x2[0,0] = \",x2[0,0])\n",
    "\n",
    "# to print 2nd element of 3rd row\n",
    "print(\"x2[2][1]= \", x2[2][1])\n",
    "print(\"x2[2,1]= \", x2[2,1])\n",
    "\n",
    "##### NOICE"
   ]
  },
  {
   "cell_type": "markdown",
   "metadata": {},
   "source": [
    "We can also change specific values with index notation"
   ]
  },
  {
   "cell_type": "code",
   "execution_count": 13,
   "metadata": {},
   "outputs": [
    {
     "name": "stdout",
     "output_type": "stream",
     "text": [
      "[[12  2  3]\n",
      " [ 4  5  6]\n",
      " [ 7  8  9]]\n"
     ]
    }
   ],
   "source": [
    "x2[0, 0] = 12\n",
    "print(x2)"
   ]
  },
  {
   "cell_type": "markdown",
   "metadata": {},
   "source": [
    "Unlike Python lists, NumPy arrays have a fixed type. This means, for example, if you attempt to insert a floating-point value to an integer array, the value will be silently truncated."
   ]
  },
  {
   "cell_type": "code",
   "execution_count": 14,
   "metadata": {},
   "outputs": [
    {
     "name": "stdout",
     "output_type": "stream",
     "text": [
      "[1 2 3 4 5]\n",
      "x1 after changing :  [1 2 5 4 5]\n"
     ]
    }
   ],
   "source": [
    "## example\n",
    "\n",
    "x1 = np.ndarray(5, buffer = np.array([1,2,3,4,5]),dtype = int)\n",
    "print(x1)\n",
    "x1[2] = 5.7\n",
    "print(\"x1 after changing : \",x1)"
   ]
  },
  {
   "cell_type": "markdown",
   "metadata": {},
   "source": [
    "#### Array Slicing and Subsetting : Accessing Subarrays\n",
    "\n",
    "Just as we can use square brackets to access individual array elements, we can also use them to access subarrays with the slice notation, marked by the colon (:) character. The NumPy slicing syntax follows that of the standard Python list; to access a slice of an array x, use :"
   ]
  },
  {
   "cell_type": "code",
   "execution_count": null,
   "metadata": {},
   "outputs": [],
   "source": [
    "x[start:stop:step]"
   ]
  },
  {
   "cell_type": "code",
   "execution_count": 15,
   "metadata": {
    "scrolled": true
   },
   "outputs": [
    {
     "name": "stdout",
     "output_type": "stream",
     "text": [
      "[0 1 2 3 4 5 6 7 8 9]\n",
      "x[:] =  [0 1 2 3 4 5 6 7 8 9]\n",
      "x[:5] =  [0 1 2 3 4]\n",
      "x[5:] =  [5 6 7 8 9]\n",
      "x[1:5] =  [1 2 3 4]\n",
      "x[1:5:2] =  [1 3]\n",
      "x[::-1] =  [9 8 7 6 5 4 3 2 1 0]\n"
     ]
    }
   ],
   "source": [
    "x = np.ndarray(10, buffer = np.array([0,1,2,3,4,5,6,7,8,9]),dtype = int)\n",
    "print(x)\n",
    "print(\"x[:] = \",x[:])\n",
    "print(\"x[:5] = \",x[:5]) # non-inclusive\n",
    "print(\"x[5:] = \",x[5:])\n",
    "print(\"x[1:5] = \",x[1:5])\n",
    "print(\"x[1:5:2] = \",x[1:5:2]) # with a step of 2 this gives us every other\n",
    "print(\"x[::-1] = \",x[::-1]) # this has a negative step so steps backwards"
   ]
  },
  {
   "cell_type": "code",
   "execution_count": 16,
   "metadata": {},
   "outputs": [
    {
     "name": "stdout",
     "output_type": "stream",
     "text": [
      "[[1 2 3]\n",
      " [4 5 6]\n",
      " [7 8 9]]\n",
      "x2[:2, :3] = \n",
      "[[1 2 3]\n",
      " [4 5 6]]\n",
      "x2[:3, ::2] = \n",
      "[[1 3]\n",
      " [4 6]\n",
      " [7 9]]\n",
      "x2[::-1, ::-1] = \n",
      "[[9 8 7]\n",
      " [6 5 4]\n",
      " [3 2 1]]\n",
      "x2[:, 0] =  [1 4 7]\n"
     ]
    }
   ],
   "source": [
    "# similarly, we can also use this for multidimensional arrays:\n",
    "\n",
    "np.random.seed(0)  # seed for reproducibility (this was in the tutorial but not sure why...)\n",
    "x2 = np.array([[1,2,3],[4,5,6],[7,8,9]])\n",
    "print(x2)\n",
    "print(\"x2[:2, :3] = \"); print(x2[:2, :3])  # first two rows, first three columns\n",
    "print(\"x2[:3, ::2] = \"); print(x2[:3, ::2]) # all rows, every other column\n",
    "print(\"x2[::-1, ::-1] = \"); print(x2[::-1, ::-1]) #reversed 2D array\n",
    "print(\"x2[:, 0] = \",x2[:, 0])  # first column of x2"
   ]
  },
  {
   "cell_type": "markdown",
   "metadata": {},
   "source": [
    "#### Joining Arrays:\n",
    "\n",
    "Using concatenate:"
   ]
  },
  {
   "cell_type": "code",
   "execution_count": 18,
   "metadata": {},
   "outputs": [
    {
     "name": "stdout",
     "output_type": "stream",
     "text": [
      "[1 2 3 4 5 6]\n"
     ]
    }
   ],
   "source": [
    "x = np.array([1,2,3])\n",
    "y = np.array([4,5,6])\n",
    "z = np.concatenate([x,y]) # Combines x and y to give one array, with one dimension - how would we combine arrays to give one with two dimensions?\n",
    "print(z)"
   ]
  },
  {
   "cell_type": "code",
   "execution_count": 21,
   "metadata": {},
   "outputs": [
    {
     "name": "stdout",
     "output_type": "stream",
     "text": [
      "[[1 2 3]\n",
      " [2 3 4]\n",
      " [3 4 5]\n",
      " [4 5 6]]\n"
     ]
    }
   ],
   "source": [
    "x2 = np.array([[1,2,3],[2,3,4]])\n",
    "y2 = np.array([[3,4,5],[4,5,6]])\n",
    "z2 = np.concatenate([x2,y2]) # Bolts this onto the end, again how would we add this into the existing dimensions?\n",
    "print(z2)"
   ]
  },
  {
   "cell_type": "markdown",
   "metadata": {},
   "source": [
    "#### Arithmetic Operations on 2D arrays\n",
    "\n",
    "+\tnp.add\n",
    "-\tnp.subtract\n",
    "*\tnp.multiply"
   ]
  },
  {
   "cell_type": "code",
   "execution_count": 23,
   "metadata": {},
   "outputs": [
    {
     "name": "stdout",
     "output_type": "stream",
     "text": [
      "x2 + y2 = \n",
      "[[ 4  6  8]\n",
      " [ 6  8 10]]\n",
      "x2 - y2 = \n",
      "[[-2 -2 -2]\n",
      " [-2 -2 -2]]\n"
     ]
    }
   ],
   "source": [
    "x2 = np.array([[1,2,3],[2,3,4]])\n",
    "y2 = np.array([[3,4,5],[4,5,6]])\n",
    "print(\"x2 + y2 = \"); print(np.add(x2,y2))\n",
    "print(\"x2 - y2 = \"); print(np.subtract(x2,y2))"
   ]
  },
  {
   "cell_type": "code",
   "execution_count": 24,
   "metadata": {},
   "outputs": [
    {
     "name": "stdout",
     "output_type": "stream",
     "text": [
      "[[1 2 3]\n",
      " [2 3 4]]\n",
      "[[3 4 5]\n",
      " [4 5 6]]\n",
      "x2 * y2 = \n",
      "[[ 3  8 15]\n",
      " [ 8 15 24]]\n"
     ]
    }
   ],
   "source": [
    "print(x2)\n",
    "print(y2)\n",
    "print(\"x2 * y2 = \"); print(np.multiply(x2,y2))"
   ]
  },
  {
   "cell_type": "markdown",
   "metadata": {},
   "source": [
    "#### Covariance"
   ]
  },
  {
   "cell_type": "code",
   "execution_count": 25,
   "metadata": {},
   "outputs": [
    {
     "name": "stdout",
     "output_type": "stream",
     "text": [
      "[[0 1 2]\n",
      " [2 1 0]]\n",
      "[[ 1. -1.]\n",
      " [-1.  1.]]\n"
     ]
    }
   ],
   "source": [
    "x2 = np.array([[0,1,2],[2,1,0]])\n",
    "print(x2)\n",
    "print(np.cov(x2))"
   ]
  },
  {
   "cell_type": "markdown",
   "metadata": {},
   "source": [
    "Copied:\n",
    "\n",
    "Note that again, C[0,1] and C[1,0] which shows the correlation between x[0] and x[1], is negative.\n",
    "\n",
    "However C[0,0] and C[1,1] which show the correlation between x[0] and x[0] and x[1] and x[1] is 1"
   ]
  },
  {
   "cell_type": "code",
   "execution_count": 26,
   "metadata": {},
   "outputs": [
    {
     "name": "stdout",
     "output_type": "stream",
     "text": [
      "[[11.71       -4.286     ]\n",
      " [-4.286       2.14413333]]\n",
      "11.709999999999999\n",
      "2.1441333333333334\n"
     ]
    }
   ],
   "source": [
    "# another example with how x and y are combined\n",
    "x = np.array([-2.1, -1,  4.3])\n",
    "y = np.array([3,  1.1,  0.12])\n",
    "X = np.stack((x, y))\n",
    "print(np.cov(X))\n",
    "# To check\n",
    "print(np.cov(x))\n",
    "print(np.cov(y))"
   ]
  },
  {
   "cell_type": "markdown",
   "metadata": {},
   "source": [
    "#### Correlation"
   ]
  },
  {
   "cell_type": "code",
   "execution_count": 27,
   "metadata": {},
   "outputs": [
    {
     "name": "stdout",
     "output_type": "stream",
     "text": [
      "[[ 1.         -0.85535781]\n",
      " [-0.85535781  1.        ]]\n"
     ]
    }
   ],
   "source": [
    "x = np.array([-2.1, -1,  4.3])\n",
    "y = np.array([3,  1.1,  0.12])\n",
    "X = np.stack((x, y))\n",
    "print(np.corrcoef(X))"
   ]
  },
  {
   "cell_type": "markdown",
   "metadata": {},
   "source": [
    "Correlation Matrix is the normalised version of the Movariance Matrix"
   ]
  }
 ],
 "metadata": {
  "kernelspec": {
   "display_name": "Python 3",
   "language": "python",
   "name": "python3"
  },
  "language_info": {
   "codemirror_mode": {
    "name": "ipython",
    "version": 3
   },
   "file_extension": ".py",
   "mimetype": "text/x-python",
   "name": "python",
   "nbconvert_exporter": "python",
   "pygments_lexer": "ipython3",
   "version": "3.7.6"
  }
 },
 "nbformat": 4,
 "nbformat_minor": 4
}
